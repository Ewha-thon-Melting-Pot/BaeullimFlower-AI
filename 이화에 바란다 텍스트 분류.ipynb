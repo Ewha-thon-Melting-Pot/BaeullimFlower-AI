{
 "cells": [
  {
   "cell_type": "markdown",
   "id": "3c30fc9b",
   "metadata": {},
   "source": [
    "# 이화에 바란다 텍스트 카테고리 분류"
   ]
  },
  {
   "cell_type": "markdown",
   "id": "35b55710",
   "metadata": {},
   "source": [
    "## 1. 데이터 로딩"
   ]
  },
  {
   "cell_type": "code",
   "execution_count": 30,
   "id": "44dba43d",
   "metadata": {},
   "outputs": [
    {
     "data": {
      "text/html": [
       "<div>\n",
       "<style scoped>\n",
       "    .dataframe tbody tr th:only-of-type {\n",
       "        vertical-align: middle;\n",
       "    }\n",
       "\n",
       "    .dataframe tbody tr th {\n",
       "        vertical-align: top;\n",
       "    }\n",
       "\n",
       "    .dataframe thead th {\n",
       "        text-align: right;\n",
       "    }\n",
       "</style>\n",
       "<table border=\"1\" class=\"dataframe\">\n",
       "  <thead>\n",
       "    <tr style=\"text-align: right;\">\n",
       "      <th></th>\n",
       "      <th>NO</th>\n",
       "      <th>제목</th>\n",
       "      <th>공감/비공감</th>\n",
       "      <th>조회수</th>\n",
       "      <th>등록일</th>\n",
       "      <th>카테고리</th>\n",
       "    </tr>\n",
       "  </thead>\n",
       "  <tbody>\n",
       "    <tr>\n",
       "      <th>0</th>\n",
       "      <td>7803</td>\n",
       "      <td>북한학과 박사 논문 연구계획서 불합격 제도 시정 요구</td>\n",
       "      <td>0 / 0</td>\n",
       "      <td>72</td>\n",
       "      <td>2024.03.06</td>\n",
       "      <td>대학</td>\n",
       "    </tr>\n",
       "    <tr>\n",
       "      <th>1</th>\n",
       "      <td>7802</td>\n",
       "      <td>IT 사설강의 '인프런'과 대학 제휴 협약을 맺어주세요</td>\n",
       "      <td>28 / 0</td>\n",
       "      <td>172</td>\n",
       "      <td>2024.02.13</td>\n",
       "      <td>학생지원</td>\n",
       "    </tr>\n",
       "    <tr>\n",
       "      <th>2</th>\n",
       "      <td>7801</td>\n",
       "      <td>학점 포기제 일부 허용 건의</td>\n",
       "      <td>0 / 0</td>\n",
       "      <td>9</td>\n",
       "      <td>2024.01.29</td>\n",
       "      <td>행정지원</td>\n",
       "    </tr>\n",
       "    <tr>\n",
       "      <th>3</th>\n",
       "      <td>7800</td>\n",
       "      <td>편입학 제도 개선 관련 문의</td>\n",
       "      <td>0 / 0</td>\n",
       "      <td>2</td>\n",
       "      <td>2024.01.23</td>\n",
       "      <td>행정지원</td>\n",
       "    </tr>\n",
       "    <tr>\n",
       "      <th>4</th>\n",
       "      <td>7799</td>\n",
       "      <td>기숙사 통금 시간 연장 건의</td>\n",
       "      <td>286 / 2</td>\n",
       "      <td>1013</td>\n",
       "      <td>2024.01.19</td>\n",
       "      <td>생활지원</td>\n",
       "    </tr>\n",
       "    <tr>\n",
       "      <th>5</th>\n",
       "      <td>7798</td>\n",
       "      <td>계리사 합격장려금 지원 건의</td>\n",
       "      <td>27 / 0</td>\n",
       "      <td>156</td>\n",
       "      <td>2024.01.11</td>\n",
       "      <td>학생지원</td>\n",
       "    </tr>\n",
       "    <tr>\n",
       "      <th>6</th>\n",
       "      <td>7797</td>\n",
       "      <td>본교에서도 통합과정의 박사과정생 또는 박사수료자가 박사학위논문을 청구하기 직전까지 ...</td>\n",
       "      <td>21 / 0</td>\n",
       "      <td>157</td>\n",
       "      <td>2024.01.09</td>\n",
       "      <td>행정지원</td>\n",
       "    </tr>\n",
       "    <tr>\n",
       "      <th>7</th>\n",
       "      <td>7796</td>\n",
       "      <td>18학년도 입학자 입니다 스페인어 2를 들어야 졸업할 수 있는데, 이제는 계절로도 ...</td>\n",
       "      <td>0 / 0</td>\n",
       "      <td>89</td>\n",
       "      <td>2024.01.03</td>\n",
       "      <td>대학</td>\n",
       "    </tr>\n",
       "    <tr>\n",
       "      <th>8</th>\n",
       "      <td>7795</td>\n",
       "      <td>마이유레카 모바일 웹 버전 개선 부탁드립니다</td>\n",
       "      <td>4 / 0</td>\n",
       "      <td>100</td>\n",
       "      <td>2023.12.05</td>\n",
       "      <td>학생지원</td>\n",
       "    </tr>\n",
       "    <tr>\n",
       "      <th>9</th>\n",
       "      <td>7794</td>\n",
       "      <td>법정의무교육 수강에 대한 제도 구축을 건의합니다</td>\n",
       "      <td>2 / 0</td>\n",
       "      <td>64</td>\n",
       "      <td>2023.12.01</td>\n",
       "      <td>행정지원</td>\n",
       "    </tr>\n",
       "  </tbody>\n",
       "</table>\n",
       "</div>"
      ],
      "text/plain": [
       "     NO                                                 제목   공감/비공감   조회수  \\\n",
       "0  7803                      북한학과 박사 논문 연구계획서 불합격 제도 시정 요구    0 / 0    72   \n",
       "1  7802                     IT 사설강의 '인프런'과 대학 제휴 협약을 맺어주세요   28 / 0   172   \n",
       "2  7801                                    학점 포기제 일부 허용 건의    0 / 0     9   \n",
       "3  7800                                    편입학 제도 개선 관련 문의    0 / 0     2   \n",
       "4  7799                                    기숙사 통금 시간 연장 건의  286 / 2  1013   \n",
       "5  7798                                    계리사 합격장려금 지원 건의   27 / 0   156   \n",
       "6  7797  본교에서도 통합과정의 박사과정생 또는 박사수료자가 박사학위논문을 청구하기 직전까지 ...   21 / 0   157   \n",
       "7  7796  18학년도 입학자 입니다 스페인어 2를 들어야 졸업할 수 있는데, 이제는 계절로도 ...    0 / 0    89   \n",
       "8  7795                           마이유레카 모바일 웹 버전 개선 부탁드립니다    4 / 0   100   \n",
       "9  7794                         법정의무교육 수강에 대한 제도 구축을 건의합니다    2 / 0    64   \n",
       "\n",
       "          등록일  카테고리  \n",
       "0  2024.03.06    대학  \n",
       "1  2024.02.13  학생지원  \n",
       "2  2024.01.29  행정지원  \n",
       "3  2024.01.23  행정지원  \n",
       "4  2024.01.19  생활지원  \n",
       "5  2024.01.11  학생지원  \n",
       "6  2024.01.09  행정지원  \n",
       "7  2024.01.03    대학  \n",
       "8  2023.12.05  학생지원  \n",
       "9  2023.12.01  행정지원  "
      ]
     },
     "execution_count": 30,
     "metadata": {},
     "output_type": "execute_result"
    }
   ],
   "source": [
    "import pandas as pd\n",
    "\n",
    "# 24년부터 19년까지의 이화에 바란다 게시글 텍스트 데이터\n",
    "petition_df = pd.read_csv('./24_19_ewha.csv', sep=\",\") \n",
    "petition_df.head(10)"
   ]
  },
  {
   "cell_type": "markdown",
   "id": "ff66a1cc",
   "metadata": {},
   "source": [
    "- 비공감, 공감 열 생성"
   ]
  },
  {
   "cell_type": "code",
   "execution_count": 31,
   "id": "243fe9b4",
   "metadata": {},
   "outputs": [],
   "source": [
    "# '공감/비공감' 피처를 '/' 기준으로 나누어 '공감', '비공감' 열 생성\n",
    "petition_df[['공감', '비공감']] = petition_df['공감/비공감'].str.split('/', expand=True)"
   ]
  },
  {
   "cell_type": "code",
   "execution_count": 32,
   "id": "4e784fd5",
   "metadata": {},
   "outputs": [
    {
     "data": {
      "text/html": [
       "<div>\n",
       "<style scoped>\n",
       "    .dataframe tbody tr th:only-of-type {\n",
       "        vertical-align: middle;\n",
       "    }\n",
       "\n",
       "    .dataframe tbody tr th {\n",
       "        vertical-align: top;\n",
       "    }\n",
       "\n",
       "    .dataframe thead th {\n",
       "        text-align: right;\n",
       "    }\n",
       "</style>\n",
       "<table border=\"1\" class=\"dataframe\">\n",
       "  <thead>\n",
       "    <tr style=\"text-align: right;\">\n",
       "      <th></th>\n",
       "      <th>NO</th>\n",
       "      <th>제목</th>\n",
       "      <th>조회수</th>\n",
       "      <th>등록일</th>\n",
       "      <th>카테고리</th>\n",
       "      <th>공감</th>\n",
       "      <th>비공감</th>\n",
       "    </tr>\n",
       "  </thead>\n",
       "  <tbody>\n",
       "    <tr>\n",
       "      <th>0</th>\n",
       "      <td>7803</td>\n",
       "      <td>북한학과 박사 논문 연구계획서 불합격 제도 시정 요구</td>\n",
       "      <td>72</td>\n",
       "      <td>2024.03.06</td>\n",
       "      <td>대학</td>\n",
       "      <td>0</td>\n",
       "      <td>0</td>\n",
       "    </tr>\n",
       "    <tr>\n",
       "      <th>1</th>\n",
       "      <td>7802</td>\n",
       "      <td>IT 사설강의 '인프런'과 대학 제휴 협약을 맺어주세요</td>\n",
       "      <td>172</td>\n",
       "      <td>2024.02.13</td>\n",
       "      <td>학생지원</td>\n",
       "      <td>28</td>\n",
       "      <td>0</td>\n",
       "    </tr>\n",
       "    <tr>\n",
       "      <th>2</th>\n",
       "      <td>7801</td>\n",
       "      <td>학점 포기제 일부 허용 건의</td>\n",
       "      <td>9</td>\n",
       "      <td>2024.01.29</td>\n",
       "      <td>행정지원</td>\n",
       "      <td>0</td>\n",
       "      <td>0</td>\n",
       "    </tr>\n",
       "    <tr>\n",
       "      <th>3</th>\n",
       "      <td>7800</td>\n",
       "      <td>편입학 제도 개선 관련 문의</td>\n",
       "      <td>2</td>\n",
       "      <td>2024.01.23</td>\n",
       "      <td>행정지원</td>\n",
       "      <td>0</td>\n",
       "      <td>0</td>\n",
       "    </tr>\n",
       "    <tr>\n",
       "      <th>4</th>\n",
       "      <td>7799</td>\n",
       "      <td>기숙사 통금 시간 연장 건의</td>\n",
       "      <td>1013</td>\n",
       "      <td>2024.01.19</td>\n",
       "      <td>생활지원</td>\n",
       "      <td>286</td>\n",
       "      <td>2</td>\n",
       "    </tr>\n",
       "    <tr>\n",
       "      <th>5</th>\n",
       "      <td>7798</td>\n",
       "      <td>계리사 합격장려금 지원 건의</td>\n",
       "      <td>156</td>\n",
       "      <td>2024.01.11</td>\n",
       "      <td>학생지원</td>\n",
       "      <td>27</td>\n",
       "      <td>0</td>\n",
       "    </tr>\n",
       "    <tr>\n",
       "      <th>6</th>\n",
       "      <td>7797</td>\n",
       "      <td>본교에서도 통합과정의 박사과정생 또는 박사수료자가 박사학위논문을 청구하기 직전까지 ...</td>\n",
       "      <td>157</td>\n",
       "      <td>2024.01.09</td>\n",
       "      <td>행정지원</td>\n",
       "      <td>21</td>\n",
       "      <td>0</td>\n",
       "    </tr>\n",
       "    <tr>\n",
       "      <th>7</th>\n",
       "      <td>7796</td>\n",
       "      <td>18학년도 입학자 입니다 스페인어 2를 들어야 졸업할 수 있는데, 이제는 계절로도 ...</td>\n",
       "      <td>89</td>\n",
       "      <td>2024.01.03</td>\n",
       "      <td>대학</td>\n",
       "      <td>0</td>\n",
       "      <td>0</td>\n",
       "    </tr>\n",
       "    <tr>\n",
       "      <th>8</th>\n",
       "      <td>7795</td>\n",
       "      <td>마이유레카 모바일 웹 버전 개선 부탁드립니다</td>\n",
       "      <td>100</td>\n",
       "      <td>2023.12.05</td>\n",
       "      <td>학생지원</td>\n",
       "      <td>4</td>\n",
       "      <td>0</td>\n",
       "    </tr>\n",
       "    <tr>\n",
       "      <th>9</th>\n",
       "      <td>7794</td>\n",
       "      <td>법정의무교육 수강에 대한 제도 구축을 건의합니다</td>\n",
       "      <td>64</td>\n",
       "      <td>2023.12.01</td>\n",
       "      <td>행정지원</td>\n",
       "      <td>2</td>\n",
       "      <td>0</td>\n",
       "    </tr>\n",
       "  </tbody>\n",
       "</table>\n",
       "</div>"
      ],
      "text/plain": [
       "     NO                                                 제목   조회수         등록일  \\\n",
       "0  7803                      북한학과 박사 논문 연구계획서 불합격 제도 시정 요구    72  2024.03.06   \n",
       "1  7802                     IT 사설강의 '인프런'과 대학 제휴 협약을 맺어주세요   172  2024.02.13   \n",
       "2  7801                                    학점 포기제 일부 허용 건의     9  2024.01.29   \n",
       "3  7800                                    편입학 제도 개선 관련 문의     2  2024.01.23   \n",
       "4  7799                                    기숙사 통금 시간 연장 건의  1013  2024.01.19   \n",
       "5  7798                                    계리사 합격장려금 지원 건의   156  2024.01.11   \n",
       "6  7797  본교에서도 통합과정의 박사과정생 또는 박사수료자가 박사학위논문을 청구하기 직전까지 ...   157  2024.01.09   \n",
       "7  7796  18학년도 입학자 입니다 스페인어 2를 들어야 졸업할 수 있는데, 이제는 계절로도 ...    89  2024.01.03   \n",
       "8  7795                           마이유레카 모바일 웹 버전 개선 부탁드립니다   100  2023.12.05   \n",
       "9  7794                         법정의무교육 수강에 대한 제도 구축을 건의합니다    64  2023.12.01   \n",
       "\n",
       "   카테고리    공감 비공감  \n",
       "0    대학    0    0  \n",
       "1  학생지원   28    0  \n",
       "2  행정지원    0    0  \n",
       "3  행정지원    0    0  \n",
       "4  생활지원  286    2  \n",
       "5  학생지원   27    0  \n",
       "6  행정지원   21    0  \n",
       "7    대학    0    0  \n",
       "8  학생지원    4    0  \n",
       "9  행정지원    2    0  "
      ]
     },
     "execution_count": 32,
     "metadata": {},
     "output_type": "execute_result"
    }
   ],
   "source": [
    "# '공감/비공감' 피처 제거\n",
    "petition_df.drop('공감/비공감', axis=1, inplace=True)\n",
    "petition_df.head(10)"
   ]
  },
  {
   "cell_type": "markdown",
   "id": "b210d0a9",
   "metadata": {},
   "source": [
    "- 필요없는 칼럼 drop 및 숫자형 데이터 변환"
   ]
  },
  {
   "cell_type": "code",
   "execution_count": 33,
   "id": "3664b0ca",
   "metadata": {},
   "outputs": [],
   "source": [
    "petition_df.drop('NO', axis=1, inplace=True)\n",
    "petition_df.drop('등록일', axis=1, inplace=True)"
   ]
  },
  {
   "cell_type": "code",
   "execution_count": 34,
   "id": "02c947a9",
   "metadata": {},
   "outputs": [],
   "source": [
    "petition_df['조회수'] = pd.to_numeric(petition_df['조회수'], errors='coerce')\n",
    "petition_df['공감'] = pd.to_numeric(petition_df['공감'], errors='coerce')\n",
    "petition_df['비공감'] = pd.to_numeric(petition_df['비공감'], errors='coerce')"
   ]
  },
  {
   "cell_type": "code",
   "execution_count": 35,
   "id": "4f2b5fad",
   "metadata": {},
   "outputs": [
    {
     "name": "stdout",
     "output_type": "stream",
     "text": [
      "<class 'pandas.core.frame.DataFrame'>\n",
      "RangeIndex: 1929 entries, 0 to 1928\n",
      "Data columns (total 5 columns):\n",
      " #   Column  Non-Null Count  Dtype \n",
      "---  ------  --------------  ----- \n",
      " 0   제목      1929 non-null   object\n",
      " 1   조회수     1929 non-null   int64 \n",
      " 2   카테고리    1928 non-null   object\n",
      " 3   공감      1929 non-null   int64 \n",
      " 4   비공감     1929 non-null   int64 \n",
      "dtypes: int64(3), object(2)\n",
      "memory usage: 75.5+ KB\n"
     ]
    }
   ],
   "source": [
    "petition_df.info()"
   ]
  },
  {
   "cell_type": "markdown",
   "id": "6b618e2c",
   "metadata": {},
   "source": [
    "## 2. 데이터 전처리"
   ]
  },
  {
   "cell_type": "markdown",
   "id": "649e3011",
   "metadata": {},
   "source": [
    "- 정규표현식 모듈을 사용해 훈련에 방해가 되는 문자 제거"
   ]
  },
  {
   "cell_type": "code",
   "execution_count": 36,
   "id": "dcadb8c7",
   "metadata": {},
   "outputs": [],
   "source": [
    "# 숫자 제거\n",
    "\n",
    "import re\n",
    "\n",
    "petition_df = petition_df.fillna(' ')\n",
    "petition_df['제목'] = petition_df['제목'].apply(lambda x : re.sub(r\"\\d+\", \" \", x))"
   ]
  },
  {
   "cell_type": "code",
   "execution_count": 37,
   "id": "bbf7a25f",
   "metadata": {},
   "outputs": [],
   "source": [
    "# 영어 제거\n",
    "def remove_english(text):\n",
    "    result = re.sub(r'[a-zA-Z]+', '', text)\n",
    "    return result\n",
    "\n",
    "petition_df['제목'] = petition_df['제목'].apply(remove_english)"
   ]
  },
  {
   "cell_type": "code",
   "execution_count": 38,
   "id": "59d0e2c0",
   "metadata": {},
   "outputs": [],
   "source": [
    "# 한자 제거\n",
    "def remove_chinese_chars_from_df(df, column_name):\n",
    "    pattern = re.compile('[\\u4e00-\\u9fff]+')\n",
    "    df[column_name] = df[column_name].apply(lambda x: pattern.sub('', x))\n",
    "    return df\n",
    "\n",
    "petition_df = remove_chinese_chars_from_df(petition_df, '제목')"
   ]
  },
  {
   "cell_type": "code",
   "execution_count": 39,
   "id": "f38040d4",
   "metadata": {},
   "outputs": [],
   "source": [
    "# 특수문자 제거 함수 정의\n",
    "def remove_special_chars(text):\n",
    "    return text.translate(str.maketrans('', '', '#$%^&*~-+=?!'))\n",
    "\n",
    "for col in petition_df.columns:\n",
    "    petition_df[col] = petition_df[col].apply(lambda x: remove_special_chars(x) if isinstance(x, str) else x)"
   ]
  },
  {
   "cell_type": "code",
   "execution_count": 40,
   "id": "a6aec746",
   "metadata": {},
   "outputs": [],
   "source": [
    "#null 행 제거\n",
    "petition_df.dropna(subset=['제목'], inplace=True)\n",
    "petition_df = petition_df[petition_df['제목'].str.strip() != '']"
   ]
  },
  {
   "cell_type": "code",
   "execution_count": 41,
   "id": "22fb082b",
   "metadata": {},
   "outputs": [
    {
     "data": {
      "text/html": [
       "<div>\n",
       "<style scoped>\n",
       "    .dataframe tbody tr th:only-of-type {\n",
       "        vertical-align: middle;\n",
       "    }\n",
       "\n",
       "    .dataframe tbody tr th {\n",
       "        vertical-align: top;\n",
       "    }\n",
       "\n",
       "    .dataframe thead th {\n",
       "        text-align: right;\n",
       "    }\n",
       "</style>\n",
       "<table border=\"1\" class=\"dataframe\">\n",
       "  <thead>\n",
       "    <tr style=\"text-align: right;\">\n",
       "      <th></th>\n",
       "      <th>제목</th>\n",
       "      <th>조회수</th>\n",
       "      <th>카테고리</th>\n",
       "      <th>공감</th>\n",
       "      <th>비공감</th>\n",
       "    </tr>\n",
       "  </thead>\n",
       "  <tbody>\n",
       "    <tr>\n",
       "      <th>0</th>\n",
       "      <td>북한학과 박사 논문 연구계획서 불합격 제도 시정 요구</td>\n",
       "      <td>72</td>\n",
       "      <td>대학</td>\n",
       "      <td>0</td>\n",
       "      <td>0</td>\n",
       "    </tr>\n",
       "    <tr>\n",
       "      <th>1</th>\n",
       "      <td>사설강의 '인프런'과 대학 제휴 협약을 맺어주세요</td>\n",
       "      <td>172</td>\n",
       "      <td>학생지원</td>\n",
       "      <td>28</td>\n",
       "      <td>0</td>\n",
       "    </tr>\n",
       "    <tr>\n",
       "      <th>2</th>\n",
       "      <td>학점 포기제 일부 허용 건의</td>\n",
       "      <td>9</td>\n",
       "      <td>행정지원</td>\n",
       "      <td>0</td>\n",
       "      <td>0</td>\n",
       "    </tr>\n",
       "    <tr>\n",
       "      <th>3</th>\n",
       "      <td>편입학 제도 개선 관련 문의</td>\n",
       "      <td>2</td>\n",
       "      <td>행정지원</td>\n",
       "      <td>0</td>\n",
       "      <td>0</td>\n",
       "    </tr>\n",
       "    <tr>\n",
       "      <th>4</th>\n",
       "      <td>기숙사 통금 시간 연장 건의</td>\n",
       "      <td>1013</td>\n",
       "      <td>생활지원</td>\n",
       "      <td>286</td>\n",
       "      <td>2</td>\n",
       "    </tr>\n",
       "    <tr>\n",
       "      <th>...</th>\n",
       "      <td>...</td>\n",
       "      <td>...</td>\n",
       "      <td>...</td>\n",
       "      <td>...</td>\n",
       "      <td>...</td>\n",
       "    </tr>\n",
       "    <tr>\n",
       "      <th>1924</th>\n",
       "      <td>수강시뮬레이션이나 졸업시뮬레이션 항상 볼 수 있게 해주세요.</td>\n",
       "      <td>2</td>\n",
       "      <td>학생지원</td>\n",
       "      <td>0</td>\n",
       "      <td>0</td>\n",
       "    </tr>\n",
       "    <tr>\n",
       "      <th>1925</th>\n",
       "      <td>편입학 수강신청</td>\n",
       "      <td>12</td>\n",
       "      <td>행정지원</td>\n",
       "      <td>0</td>\n",
       "      <td>0</td>\n",
       "    </tr>\n",
       "    <tr>\n",
       "      <th>1926</th>\n",
       "      <td>학교에서 본교생을 대상으로 운영하고 있는 프로그램에 교수 및 교직원 자녀가 사적으로...</td>\n",
       "      <td>13</td>\n",
       "      <td>기타</td>\n",
       "      <td>0</td>\n",
       "      <td>0</td>\n",
       "    </tr>\n",
       "    <tr>\n",
       "      <th>1927</th>\n",
       "      <td>의 세탁소</td>\n",
       "      <td>6</td>\n",
       "      <td>생활지원</td>\n",
       "      <td>0</td>\n",
       "      <td>0</td>\n",
       "    </tr>\n",
       "    <tr>\n",
       "      <th>1928</th>\n",
       "      <td>학생들의 성적 내역을 본인이 확인할 수 있게 해주세요.</td>\n",
       "      <td>4</td>\n",
       "      <td>기타</td>\n",
       "      <td>0</td>\n",
       "      <td>0</td>\n",
       "    </tr>\n",
       "  </tbody>\n",
       "</table>\n",
       "<p>1925 rows × 5 columns</p>\n",
       "</div>"
      ],
      "text/plain": [
       "                                                     제목   조회수  카테고리   공감  비공감\n",
       "0                         북한학과 박사 논문 연구계획서 불합격 제도 시정 요구    72    대학    0    0\n",
       "1                           사설강의 '인프런'과 대학 제휴 협약을 맺어주세요   172  학생지원   28    0\n",
       "2                                       학점 포기제 일부 허용 건의     9  행정지원    0    0\n",
       "3                                       편입학 제도 개선 관련 문의     2  행정지원    0    0\n",
       "4                                       기숙사 통금 시간 연장 건의  1013  생활지원  286    2\n",
       "...                                                 ...   ...   ...  ...  ...\n",
       "1924                  수강시뮬레이션이나 졸업시뮬레이션 항상 볼 수 있게 해주세요.     2  학생지원    0    0\n",
       "1925                                           편입학 수강신청    12  행정지원    0    0\n",
       "1926  학교에서 본교생을 대상으로 운영하고 있는 프로그램에 교수 및 교직원 자녀가 사적으로...    13    기타    0    0\n",
       "1927                                              의 세탁소     6  생활지원    0    0\n",
       "1928                     학생들의 성적 내역을 본인이 확인할 수 있게 해주세요.     4    기타    0    0\n",
       "\n",
       "[1925 rows x 5 columns]"
      ]
     },
     "execution_count": 41,
     "metadata": {},
     "output_type": "execute_result"
    }
   ],
   "source": [
    "petition_df"
   ]
  },
  {
   "cell_type": "markdown",
   "id": "140622a1",
   "metadata": {},
   "source": [
    "- 칼럼 제목 변경"
   ]
  },
  {
   "cell_type": "code",
   "execution_count": 42,
   "id": "899203ad",
   "metadata": {},
   "outputs": [],
   "source": [
    "df = petition_df.copy()\n",
    "df.rename(columns={'제목': 'title'}, inplace=True)"
   ]
  },
  {
   "cell_type": "code",
   "execution_count": 43,
   "id": "e2ccb6f9",
   "metadata": {},
   "outputs": [],
   "source": [
    "df.rename(columns={'조회수': 'views'}, inplace=True)\n",
    "df.rename(columns={'등록일': 'date'}, inplace=True)\n",
    "df.rename(columns={'공감': 'agree'}, inplace=True)\n",
    "df.rename(columns={'비공감': 'disagree'}, inplace=True)\n",
    "df.rename(columns={'카테고리': 'category'}, inplace=True)"
   ]
  },
  {
   "cell_type": "code",
   "execution_count": 44,
   "id": "c076f1f9",
   "metadata": {},
   "outputs": [
    {
     "data": {
      "text/html": [
       "<div>\n",
       "<style scoped>\n",
       "    .dataframe tbody tr th:only-of-type {\n",
       "        vertical-align: middle;\n",
       "    }\n",
       "\n",
       "    .dataframe tbody tr th {\n",
       "        vertical-align: top;\n",
       "    }\n",
       "\n",
       "    .dataframe thead th {\n",
       "        text-align: right;\n",
       "    }\n",
       "</style>\n",
       "<table border=\"1\" class=\"dataframe\">\n",
       "  <thead>\n",
       "    <tr style=\"text-align: right;\">\n",
       "      <th></th>\n",
       "      <th>views</th>\n",
       "      <th>agree</th>\n",
       "      <th>disagree</th>\n",
       "    </tr>\n",
       "  </thead>\n",
       "  <tbody>\n",
       "    <tr>\n",
       "      <th>count</th>\n",
       "      <td>1925.000000</td>\n",
       "      <td>1925.000000</td>\n",
       "      <td>1925.000000</td>\n",
       "    </tr>\n",
       "    <tr>\n",
       "      <th>mean</th>\n",
       "      <td>25.856623</td>\n",
       "      <td>2.953247</td>\n",
       "      <td>0.048831</td>\n",
       "    </tr>\n",
       "    <tr>\n",
       "      <th>std</th>\n",
       "      <td>92.488350</td>\n",
       "      <td>23.239620</td>\n",
       "      <td>0.368603</td>\n",
       "    </tr>\n",
       "    <tr>\n",
       "      <th>min</th>\n",
       "      <td>0.000000</td>\n",
       "      <td>0.000000</td>\n",
       "      <td>0.000000</td>\n",
       "    </tr>\n",
       "    <tr>\n",
       "      <th>25%</th>\n",
       "      <td>0.000000</td>\n",
       "      <td>0.000000</td>\n",
       "      <td>0.000000</td>\n",
       "    </tr>\n",
       "    <tr>\n",
       "      <th>50%</th>\n",
       "      <td>1.000000</td>\n",
       "      <td>0.000000</td>\n",
       "      <td>0.000000</td>\n",
       "    </tr>\n",
       "    <tr>\n",
       "      <th>75%</th>\n",
       "      <td>9.000000</td>\n",
       "      <td>0.000000</td>\n",
       "      <td>0.000000</td>\n",
       "    </tr>\n",
       "    <tr>\n",
       "      <th>max</th>\n",
       "      <td>1530.000000</td>\n",
       "      <td>473.000000</td>\n",
       "      <td>7.000000</td>\n",
       "    </tr>\n",
       "  </tbody>\n",
       "</table>\n",
       "</div>"
      ],
      "text/plain": [
       "             views        agree     disagree\n",
       "count  1925.000000  1925.000000  1925.000000\n",
       "mean     25.856623     2.953247     0.048831\n",
       "std      92.488350    23.239620     0.368603\n",
       "min       0.000000     0.000000     0.000000\n",
       "25%       0.000000     0.000000     0.000000\n",
       "50%       1.000000     0.000000     0.000000\n",
       "75%       9.000000     0.000000     0.000000\n",
       "max    1530.000000   473.000000     7.000000"
      ]
     },
     "execution_count": 44,
     "metadata": {},
     "output_type": "execute_result"
    }
   ],
   "source": [
    "df.describe()"
   ]
  },
  {
   "cell_type": "markdown",
   "id": "460ca51e",
   "metadata": {},
   "source": [
    "## 3. EDA"
   ]
  },
  {
   "cell_type": "markdown",
   "id": "db2dbfcd",
   "metadata": {},
   "source": [
    "- 상관관계 분석"
   ]
  },
  {
   "cell_type": "code",
   "execution_count": 45,
   "id": "adcf31dd",
   "metadata": {},
   "outputs": [
    {
     "data": {
      "image/png": "[encoded data removed]",
      "text/plain": [
       "<Figure size 800x600 with 2 Axes>"
      ]
     },
     "metadata": {},
     "output_type": "display_data"
    }
   ],
   "source": [
    "import pandas as pd\n",
    "import seaborn as sns\n",
    "import matplotlib.pyplot as plt\n",
    "\n",
    "# 'views', 'agree', 'disagree' 피처 간의 상관관계 계산\n",
    "correlation_matrix = df[['views', 'agree', 'disagree']].corr()\n",
    "\n",
    "# 상관관계 히트맵 출력\n",
    "plt.figure(figsize=(8, 6)) # 히트맵 크기 설정\n",
    "sns.heatmap(correlation_matrix, annot=True, cmap='coolwarm', linewidths=.5)\n",
    "plt.title('Feature Correlation Heatmap')\n",
    "plt.show()"
   ]
  },
  {
   "cell_type": "markdown",
   "id": "996560ee",
   "metadata": {},
   "source": [
    "### 숫자형 데이터 표준화"
   ]
  },
  {
   "cell_type": "code",
   "execution_count": 46,
   "id": "6e50a6ac",
   "metadata": {},
   "outputs": [],
   "source": [
    "from sklearn.preprocessing import StandardScaler\n",
    "\n",
    "# StandardScaler 객체 생성\n",
    "scaler = StandardScaler()\n",
    "\n",
    "# 조회수 데이터 스케일링\n",
    "df['views'] = scaler.fit_transform(df[['views']])"
   ]
  },
  {
   "cell_type": "code",
   "execution_count": 47,
   "id": "9eee4190",
   "metadata": {},
   "outputs": [],
   "source": [
    "# StandardScaler 객체 생성\n",
    "scaler = StandardScaler()\n",
    "\n",
    "# 조회수 데이터 스케일링\n",
    "df['agree'] = scaler.fit_transform(df[['agree']])"
   ]
  },
  {
   "cell_type": "code",
   "execution_count": 48,
   "id": "7de31d08",
   "metadata": {},
   "outputs": [],
   "source": [
    "# StandardScaler 객체 생성\n",
    "scaler = StandardScaler()\n",
    "\n",
    "# 조회수 데이터 스케일링\n",
    "df['disagree'] = scaler.fit_transform(df[['disagree']])"
   ]
  },
  {
   "cell_type": "markdown",
   "id": "45fdbe4e",
   "metadata": {},
   "source": [
    "### Visualization"
   ]
  },
  {
   "cell_type": "code",
   "execution_count": 50,
   "id": "27b81518",
   "metadata": {},
   "outputs": [
    {
     "data": {
      "image/png": "[encoded data removed]",
      "text/plain": [
       "<Figure size 640x480 with 1 Axes>"
      ]
     },
     "metadata": {},
     "output_type": "display_data"
    }
   ],
   "source": [
    "import pandas as pd\n",
    "import matplotlib.pyplot as plt\n",
    "\n",
    "# 막대 그래프 그리기\n",
    "plt.bar(df.index, df['views'])\n",
    "plt.title('petition views')\n",
    "plt.xlabel('index')\n",
    "plt.ylabel('views')\n",
    "\n",
    "plt.show()  # 그래프 보여주기"
   ]
  },
  {
   "cell_type": "code",
   "execution_count": 52,
   "id": "7a203aaa",
   "metadata": {},
   "outputs": [
    {
     "data": {
      "image/png": "[encoded data removed]",
      "text/plain": [
       "<Figure size 640x480 with 1 Axes>"
      ]
     },
     "metadata": {},
     "output_type": "display_data"
    }
   ],
   "source": [
    "# 막대 그래프 그리기\n",
    "plt.bar(df.index, df['agree'])\n",
    "plt.title('petition agree')\n",
    "plt.xlabel('index')\n",
    "plt.ylabel('agree')\n",
    "\n",
    "plt.show()  # 그래프 보여주기"
   ]
  },
  {
   "cell_type": "code",
   "execution_count": 53,
   "id": "aae8df25",
   "metadata": {},
   "outputs": [
    {
     "data": {
      "image/png": "[encoded data removed]",
      "text/plain": [
       "<Figure size 640x480 with 1 Axes>"
      ]
     },
     "metadata": {},
     "output_type": "display_data"
    }
   ],
   "source": [
    "# 막대 그래프 그리기\n",
    "plt.bar(df.index, df['disagree'])\n",
    "plt.title('petition disagree')\n",
    "plt.xlabel('index')\n",
    "plt.ylabel('disagree')\n",
    "\n",
    "plt.show()  # 그래프 보여주기"
   ]
  },
  {
   "cell_type": "markdown",
   "id": "c38db740",
   "metadata": {},
   "source": [
    "## 4. 모델 훈련"
   ]
  },
  {
   "cell_type": "code",
   "execution_count": 54,
   "id": "9b2fa382",
   "metadata": {},
   "outputs": [],
   "source": [
    "import pandas as pd\n",
    "from sklearn.feature_extraction.text import TfidfVectorizer\n",
    "from sklearn.linear_model import LogisticRegression\n",
    "from sklearn.pipeline import Pipeline\n",
    "from sklearn.model_selection import train_test_split\n",
    "from konlpy.tag import Okt"
   ]
  },
  {
   "cell_type": "code",
   "execution_count": 58,
   "id": "d3fd97b3",
   "metadata": {},
   "outputs": [],
   "source": [
    "# 필요한 피처 선택\n",
    "df_c = df[['title', 'views', 'agree', 'disagree', 'category']]"
   ]
  },
  {
   "cell_type": "code",
   "execution_count": 59,
   "id": "e1b130e2",
   "metadata": {},
   "outputs": [],
   "source": [
    "# '카테고리' 열을 제외한 나머지를 특성 데이터(X)로, '카테고리' 열을 타겟 데이터(y)로 설정\n",
    "X = df_c.drop('category', axis=1)\n",
    "y = df_c['category']"
   ]
  },
  {
   "cell_type": "code",
   "execution_count": 62,
   "id": "d12b4df1",
   "metadata": {},
   "outputs": [
    {
     "data": {
      "text/html": [
       "<div>\n",
       "<style scoped>\n",
       "    .dataframe tbody tr th:only-of-type {\n",
       "        vertical-align: middle;\n",
       "    }\n",
       "\n",
       "    .dataframe tbody tr th {\n",
       "        vertical-align: top;\n",
       "    }\n",
       "\n",
       "    .dataframe thead th {\n",
       "        text-align: right;\n",
       "    }\n",
       "</style>\n",
       "<table border=\"1\" class=\"dataframe\">\n",
       "  <thead>\n",
       "    <tr style=\"text-align: right;\">\n",
       "      <th></th>\n",
       "      <th>title</th>\n",
       "      <th>views</th>\n",
       "      <th>agree</th>\n",
       "      <th>disagree</th>\n",
       "    </tr>\n",
       "  </thead>\n",
       "  <tbody>\n",
       "    <tr>\n",
       "      <th>427</th>\n",
       "      <td>음대 폐쇄와 실기시험 취소 논의를 요청합니다</td>\n",
       "      <td>-0.279639</td>\n",
       "      <td>-0.127111</td>\n",
       "      <td>-0.132511</td>\n",
       "    </tr>\n",
       "    <tr>\n",
       "      <th>141</th>\n",
       "      <td>헬스장에 파워렉 설치를 건의합니다.</td>\n",
       "      <td>0.639635</td>\n",
       "      <td>-0.084070</td>\n",
       "      <td>-0.132511</td>\n",
       "    </tr>\n",
       "    <tr>\n",
       "      <th>1023</th>\n",
       "      <td>의과대학의 오프라인 강의를 반대합니다</td>\n",
       "      <td>-0.268824</td>\n",
       "      <td>-0.127111</td>\n",
       "      <td>-0.132511</td>\n",
       "    </tr>\n",
       "    <tr>\n",
       "      <th>695</th>\n",
       "      <td>여름 계절학기 전면 온라인 강의로 전환하기를 요구합니다</td>\n",
       "      <td>-0.279639</td>\n",
       "      <td>-0.127111</td>\n",
       "      <td>-0.132511</td>\n",
       "    </tr>\n",
       "    <tr>\n",
       "      <th>1803</th>\n",
       "      <td>이번 게시된 이화 홍보 영상 담당자에게 인센티브 지급 바랍니다.</td>\n",
       "      <td>-0.279639</td>\n",
       "      <td>-0.127111</td>\n",
       "      <td>-0.132511</td>\n",
       "    </tr>\n",
       "    <tr>\n",
       "      <th>...</th>\n",
       "      <td>...</td>\n",
       "      <td>...</td>\n",
       "      <td>...</td>\n",
       "      <td>...</td>\n",
       "    </tr>\n",
       "    <tr>\n",
       "      <th>1132</th>\n",
       "      <td>수강 정정기간 연장 및 수강인원 확충</td>\n",
       "      <td>-0.279639</td>\n",
       "      <td>-0.127111</td>\n",
       "      <td>-0.132511</td>\n",
       "    </tr>\n",
       "    <tr>\n",
       "      <th>1296</th>\n",
       "      <td>기숙사 선택입사 요청합니다</td>\n",
       "      <td>-0.279639</td>\n",
       "      <td>-0.127111</td>\n",
       "      <td>-0.132511</td>\n",
       "    </tr>\n",
       "    <tr>\n",
       "      <th>861</th>\n",
       "      <td>사이버 캠퍼스 개선</td>\n",
       "      <td>-0.279639</td>\n",
       "      <td>-0.127111</td>\n",
       "      <td>-0.132511</td>\n",
       "    </tr>\n",
       "    <tr>\n",
       "      <th>1463</th>\n",
       "      <td>질병휴학 시 등록금 반환해주세요</td>\n",
       "      <td>-0.279639</td>\n",
       "      <td>-0.127111</td>\n",
       "      <td>-0.132511</td>\n",
       "    </tr>\n",
       "    <tr>\n",
       "      <th>1128</th>\n",
       "      <td>실험 수업의 오프라인 개강을 미뤄주세요.</td>\n",
       "      <td>-0.279639</td>\n",
       "      <td>-0.127111</td>\n",
       "      <td>-0.132511</td>\n",
       "    </tr>\n",
       "  </tbody>\n",
       "</table>\n",
       "<p>1540 rows × 4 columns</p>\n",
       "</div>"
      ],
      "text/plain": [
       "                                    title     views     agree  disagree\n",
       "427              음대 폐쇄와 실기시험 취소 논의를 요청합니다 -0.279639 -0.127111 -0.132511\n",
       "141                   헬스장에 파워렉 설치를 건의합니다.  0.639635 -0.084070 -0.132511\n",
       "1023                 의과대학의 오프라인 강의를 반대합니다 -0.268824 -0.127111 -0.132511\n",
       "695        여름 계절학기 전면 온라인 강의로 전환하기를 요구합니다 -0.279639 -0.127111 -0.132511\n",
       "1803  이번 게시된 이화 홍보 영상 담당자에게 인센티브 지급 바랍니다. -0.279639 -0.127111 -0.132511\n",
       "...                                   ...       ...       ...       ...\n",
       "1132                 수강 정정기간 연장 및 수강인원 확충 -0.279639 -0.127111 -0.132511\n",
       "1296                       기숙사 선택입사 요청합니다 -0.279639 -0.127111 -0.132511\n",
       "861                            사이버 캠퍼스 개선 -0.279639 -0.127111 -0.132511\n",
       "1463                    질병휴학 시 등록금 반환해주세요 -0.279639 -0.127111 -0.132511\n",
       "1128               실험 수업의 오프라인 개강을 미뤄주세요. -0.279639 -0.127111 -0.132511\n",
       "\n",
       "[1540 rows x 4 columns]"
      ]
     },
     "execution_count": 62,
     "metadata": {},
     "output_type": "execute_result"
    }
   ],
   "source": [
    "# 데이터를 훈련 세트와 테스트 세트로 분리\n",
    "X_train, X_test, y_train, y_test = train_test_split(X, y, test_size=0.2, random_state=42)\n",
    "\n",
    "X_train"
   ]
  },
  {
   "cell_type": "markdown",
   "id": "b1eaf4e8",
   "metadata": {},
   "source": [
    "### 피처벡터화"
   ]
  },
  {
   "cell_type": "code",
   "execution_count": 60,
   "id": "53d886cd",
   "metadata": {},
   "outputs": [],
   "source": [
    "from konlpy.tag import Okt\n",
    "\n",
    "okt = Okt()\n",
    "def tw_tokenizer(text):\n",
    "    # 입력 인자로 들어온 텍스트를 형태소 단어로 토큰화해 리스트 형태로 반환\n",
    "    tokens_ko = okt.morphs(text)\n",
    "    return tokens_ko"
   ]
  },
  {
   "cell_type": "markdown",
   "id": "8c9e5e47",
   "metadata": {},
   "source": [
    "### LogisticRegression 모델을 이용한 평가"
   ]
  },
  {
   "cell_type": "code",
   "execution_count": 66,
   "id": "c43be7cd",
   "metadata": {},
   "outputs": [],
   "source": [
    "pipeline = Pipeline([\n",
    "    ('tfidf_vect', TfidfVectorizer(tokenizer=tw_tokenizer)),\n",
    "    ('lr_clf', LogisticRegression(random_state=42))\n",
    "])"
   ]
  },
  {
   "cell_type": "code",
   "execution_count": 67,
   "id": "9f6a8939",
   "metadata": {},
   "outputs": [
    {
     "name": "stderr",
     "output_type": "stream",
     "text": [
      "/Users/lenovo/anaconda3/lib/python3.11/site-packages/sklearn/feature_extraction/text.py:525: UserWarning: The parameter 'token_pattern' will not be used since 'tokenizer' is not None'\n",
      "  warnings.warn(\n"
     ]
    },
    {
     "data": {
      "text/html": [
       "<style>#sk-container-id-2 {color: black;}#sk-container-id-2 pre{padding: 0;}#sk-container-id-2 div.sk-toggleable {background-color: white;}#sk-container-id-2 label.sk-toggleable__label {cursor: pointer;display: block;width: 100%;margin-bottom: 0;padding: 0.3em;box-sizing: border-box;text-align: center;}#sk-container-id-2 label.sk-toggleable__label-arrow:before {content: \"▸\";float: left;margin-right: 0.25em;color: #696969;}#sk-container-id-2 label.sk-toggleable__label-arrow:hover:before {color: black;}#sk-container-id-2 div.sk-estimator:hover label.sk-toggleable__label-arrow:before {color: black;}#sk-container-id-2 div.sk-toggleable__content {max-height: 0;max-width: 0;overflow: hidden;text-align: left;background-color: #f0f8ff;}#sk-container-id-2 div.sk-toggleable__content pre {margin: 0.2em;color: black;border-radius: 0.25em;background-color: #f0f8ff;}#sk-container-id-2 input.sk-toggleable__control:checked~div.sk-toggleable__content {max-height: 200px;max-width: 100%;overflow: auto;}#sk-container-id-2 input.sk-toggleable__control:checked~label.sk-toggleable__label-arrow:before {content: \"▾\";}#sk-container-id-2 div.sk-estimator input.sk-toggleable__control:checked~label.sk-toggleable__label {background-color: #d4ebff;}#sk-container-id-2 div.sk-label input.sk-toggleable__control:checked~label.sk-toggleable__label {background-color: #d4ebff;}#sk-container-id-2 input.sk-hidden--visually {border: 0;clip: rect(1px 1px 1px 1px);clip: rect(1px, 1px, 1px, 1px);height: 1px;margin: -1px;overflow: hidden;padding: 0;position: absolute;width: 1px;}#sk-container-id-2 div.sk-estimator {font-family: monospace;background-color: #f0f8ff;border: 1px dotted black;border-radius: 0.25em;box-sizing: border-box;margin-bottom: 0.5em;}#sk-container-id-2 div.sk-estimator:hover {background-color: #d4ebff;}#sk-container-id-2 div.sk-parallel-item::after {content: \"\";width: 100%;border-bottom: 1px solid gray;flex-grow: 1;}#sk-container-id-2 div.sk-label:hover label.sk-toggleable__label {background-color: #d4ebff;}#sk-container-id-2 div.sk-serial::before {content: \"\";position: absolute;border-left: 1px solid gray;box-sizing: border-box;top: 0;bottom: 0;left: 50%;z-index: 0;}#sk-container-id-2 div.sk-serial {display: flex;flex-direction: column;align-items: center;background-color: white;padding-right: 0.2em;padding-left: 0.2em;position: relative;}#sk-container-id-2 div.sk-item {position: relative;z-index: 1;}#sk-container-id-2 div.sk-parallel {display: flex;align-items: stretch;justify-content: center;background-color: white;position: relative;}#sk-container-id-2 div.sk-item::before, #sk-container-id-2 div.sk-parallel-item::before {content: \"\";position: absolute;border-left: 1px solid gray;box-sizing: border-box;top: 0;bottom: 0;left: 50%;z-index: -1;}#sk-container-id-2 div.sk-parallel-item {display: flex;flex-direction: column;z-index: 1;position: relative;background-color: white;}#sk-container-id-2 div.sk-parallel-item:first-child::after {align-self: flex-end;width: 50%;}#sk-container-id-2 div.sk-parallel-item:last-child::after {align-self: flex-start;width: 50%;}#sk-container-id-2 div.sk-parallel-item:only-child::after {width: 0;}#sk-container-id-2 div.sk-dashed-wrapped {border: 1px dashed gray;margin: 0 0.4em 0.5em 0.4em;box-sizing: border-box;padding-bottom: 0.4em;background-color: white;}#sk-container-id-2 div.sk-label label {font-family: monospace;font-weight: bold;display: inline-block;line-height: 1.2em;}#sk-container-id-2 div.sk-label-container {text-align: center;}#sk-container-id-2 div.sk-container {/* jupyter's `normalize.less` sets `[hidden] { display: none; }` but bootstrap.min.css set `[hidden] { display: none !important; }` so we also need the `!important` here to be able to override the default hidden behavior on the sphinx rendered scikit-learn.org. See: https://github.com/scikit-learn/scikit-learn/issues/21755 */display: inline-block !important;position: relative;}#sk-container-id-2 div.sk-text-repr-fallback {display: none;}</style><div id=\"sk-container-id-2\" class=\"sk-top-container\"><div class=\"sk-text-repr-fallback\"><pre>Pipeline(steps=[(&#x27;tfidf_vect&#x27;,\n",
       "                 TfidfVectorizer(tokenizer=&lt;function tw_tokenizer at 0x15fa2c5e0&gt;)),\n",
       "                (&#x27;lr_clf&#x27;, LogisticRegression(random_state=42))])</pre><b>In a Jupyter environment, please rerun this cell to show the HTML representation or trust the notebook. <br />On GitHub, the HTML representation is unable to render, please try loading this page with nbviewer.org.</b></div><div class=\"sk-container\" hidden><div class=\"sk-item sk-dashed-wrapped\"><div class=\"sk-label-container\"><div class=\"sk-label sk-toggleable\"><input class=\"sk-toggleable__control sk-hidden--visually\" id=\"sk-estimator-id-4\" type=\"checkbox\" ><label for=\"sk-estimator-id-4\" class=\"sk-toggleable__label sk-toggleable__label-arrow\">Pipeline</label><div class=\"sk-toggleable__content\"><pre>Pipeline(steps=[(&#x27;tfidf_vect&#x27;,\n",
       "                 TfidfVectorizer(tokenizer=&lt;function tw_tokenizer at 0x15fa2c5e0&gt;)),\n",
       "                (&#x27;lr_clf&#x27;, LogisticRegression(random_state=42))])</pre></div></div></div><div class=\"sk-serial\"><div class=\"sk-item\"><div class=\"sk-estimator sk-toggleable\"><input class=\"sk-toggleable__control sk-hidden--visually\" id=\"sk-estimator-id-5\" type=\"checkbox\" ><label for=\"sk-estimator-id-5\" class=\"sk-toggleable__label sk-toggleable__label-arrow\">TfidfVectorizer</label><div class=\"sk-toggleable__content\"><pre>TfidfVectorizer(tokenizer=&lt;function tw_tokenizer at 0x15fa2c5e0&gt;)</pre></div></div></div><div class=\"sk-item\"><div class=\"sk-estimator sk-toggleable\"><input class=\"sk-toggleable__control sk-hidden--visually\" id=\"sk-estimator-id-6\" type=\"checkbox\" ><label for=\"sk-estimator-id-6\" class=\"sk-toggleable__label sk-toggleable__label-arrow\">LogisticRegression</label><div class=\"sk-toggleable__content\"><pre>LogisticRegression(random_state=42)</pre></div></div></div></div></div></div></div>"
      ],
      "text/plain": [
       "Pipeline(steps=[('tfidf_vect',\n",
       "                 TfidfVectorizer(tokenizer=<function tw_tokenizer at 0x15fa2c5e0>)),\n",
       "                ('lr_clf', LogisticRegression(random_state=42))])"
      ]
     },
     "execution_count": 67,
     "metadata": {},
     "output_type": "execute_result"
    }
   ],
   "source": [
    "# '제목' 컬럼과 '카테고리' 컬럼을 사용해야 합니다.\n",
    "# X_train과 y_train을 앞서 분할한 데이터로 가정합니다.\n",
    "# 실제 코드에 맞게 데이터를 조정해 주세요.\n",
    "\n",
    "pipeline.fit(X_train['title'], y_train)"
   ]
  },
  {
   "cell_type": "code",
   "execution_count": 68,
   "id": "b4b12e31",
   "metadata": {},
   "outputs": [
    {
     "name": "stdout",
     "output_type": "stream",
     "text": [
      "정확도: 0.7948051948051948\n"
     ]
    }
   ],
   "source": [
    "from sklearn.metrics import accuracy_score\n",
    "\n",
    "# 테스트 데이터 세트를 이용한 예측\n",
    "pred = pipeline.predict(X_test['title'])\n",
    "\n",
    "# 정확도 평가\n",
    "print('정확도:', accuracy_score(y_test, pred))"
   ]
  },
  {
   "cell_type": "markdown",
   "id": "60f4cf6d",
   "metadata": {},
   "source": [
    "### 예측 결과 확인"
   ]
  },
  {
   "cell_type": "code",
   "execution_count": 69,
   "id": "4b9925a8",
   "metadata": {},
   "outputs": [
    {
     "data": {
      "text/plain": [
       "array(['기타', '행정지원', '행정지원', '행정지원', '행정지원', '대학', '행정지원', '행정지원', '행정지원',\n",
       "       '행정지원', '행정지원', '기타', '학생지원', '생활지원', '행정지원', '행정지원', '행정지원',\n",
       "       '학생지원', '학생지원', '행정지원', '기타', '행정지원', '행정지원', '행정지원', '대학', '대학',\n",
       "       '행정지원', '행정지원', '행정지원', '대학', '생활지원', '대학', '행정지원', '행정지원', '행정지원',\n",
       "       '기타', '대학', '행정지원', '행정지원', '행정지원', '기타', '대학', '행정지원', '행정지원',\n",
       "       '행정지원', '행정지원', '기타', '행정지원', '행정지원', '행정지원', '학생지원', '기타', '행정지원',\n",
       "       '행정지원', '행정지원', '기타', '대학', '기타', '생활지원', '행정지원', '대학', '학생지원',\n",
       "       '대학', '행정지원', '대학', '행정지원', '행정지원', '기타', '대학', '행정지원', '대학',\n",
       "       '행정지원', '대학', '기타', '행정지원', '행정지원', '행정지원', '행정지원', '기타', '행정지원',\n",
       "       '행정지원', '행정지원', '기타', '행정지원', '행정지원', '행정지원', '행정지원', '대학', '기타',\n",
       "       '행정지원', '행정지원', '생활지원', '행정지원', '대학', '생활지원', '행정지원', '행정지원',\n",
       "       '행정지원', '행정지원', '행정지원', '기타', '대학', '기타', '학생지원', '기타', '행정지원',\n",
       "       '기타', '행정지원', '행정지원', '행정지원', '행정지원', '학생지원', '행정지원', '행정지원',\n",
       "       '생활지원', '대학', '대학', '생활지원', '기타', '행정지원', '기타', '행정지원', '기타', '대학',\n",
       "       '행정지원', '행정지원', '대학', '대학', '행정지원', '대학', '행정지원', '행정지원', '생활지원',\n",
       "       '기타', '행정지원', '행정지원', '생활지원', '학생지원', '행정지원', '생활지원', '행정지원',\n",
       "       '행정지원', '행정지원', '행정지원', '행정지원', '행정지원', '행정지원', '행정지원', '행정지원',\n",
       "       '대학', '기타', '생활지원', '기타', '기타', '생활지원', '행정지원', '행정지원', '기타', '대학',\n",
       "       '기타', '대학', '행정지원', '행정지원', '행정지원', '행정지원', '대학', '행정지원', '행정지원',\n",
       "       '행정지원', '기타', '행정지원', '행정지원', '대학', '행정지원', '학생지원', '기타', '행정지원',\n",
       "       '행정지원', '기타', '행정지원', '행정지원', '기타', '행정지원', '대학', '행정지원', '행정지원',\n",
       "       '기타', '대학', '기타', '기타', '행정지원', '행정지원', '행정지원', '대학', '기타', '행정지원',\n",
       "       '행정지원', '행정지원', '행정지원', '행정지원', '행정지원', '행정지원', '행정지원', '기타',\n",
       "       '행정지원', '행정지원', '행정지원', '대학', '행정지원', '생활지원', '기타', '행정지원', '행정지원',\n",
       "       '대학', '행정지원', '행정지원', '대학', '기타', '행정지원', '행정지원', '대학', '대학',\n",
       "       '행정지원', '행정지원', '기타', '행정지원', '생활지원', '행정지원', '생활지원', '행정지원',\n",
       "       '행정지원', '기타', '행정지원', '기타', '생활지원', '기타', '행정지원', '행정지원', '행정지원',\n",
       "       '기타', '행정지원', '기타', '대학', '행정지원', '학생지원', '기타', '기타', '행정지원',\n",
       "       '행정지원', '행정지원', '생활지원', '대학', '행정지원', '기타', '행정지원', '학생지원', '대학',\n",
       "       '행정지원', '대학', '행정지원', '기타', '대학', '기타', '행정지원', '행정지원', '대학',\n",
       "       '행정지원', '행정지원', '행정지원', '기타', '행정지원', '행정지원', '행정지원', '행정지원',\n",
       "       '행정지원', '행정지원', '행정지원', '행정지원', '학생지원', '기타', '행정지원', '행정지원',\n",
       "       '행정지원', '기타', '기타', '행정지원', '행정지원', '행정지원', '생활지원', '기타', '생활지원',\n",
       "       '행정지원', '대학', '행정지원', '생활지원', '행정지원', '기타', '행정지원', '기타', '행정지원',\n",
       "       '행정지원', '행정지원', '행정지원', '기타', '대학', '행정지원', '행정지원', '행정지원', '대학',\n",
       "       '행정지원', '행정지원', '행정지원', '행정지원', '기타', '행정지원', '행정지원', '기타', '행정지원',\n",
       "       '행정지원', '행정지원', '기타', '생활지원', '기타', '대학', '행정지원', '학생지원', '기타',\n",
       "       '행정지원', '행정지원', '행정지원', '행정지원', '기타', '행정지원', '기타', '행정지원', '기타',\n",
       "       '대학', '행정지원', '행정지원', '행정지원', '행정지원', '행정지원', '행정지원', '행정지원',\n",
       "       '행정지원', '대학', '행정지원', '기타', '행정지원', '기타', '행정지원', '행정지원', '행정지원',\n",
       "       '행정지원', '기타', '행정지원', '기타', '행정지원', '대학', '기타', '행정지원', '행정지원',\n",
       "       '행정지원', '행정지원', '기타', '행정지원', '행정지원', '행정지원', '행정지원', '행정지원', '기타',\n",
       "       '행정지원', '행정지원', '기타', '행정지원', '행정지원', '기타', '대학', '기타', '행정지원',\n",
       "       '기타', '행정지원', '행정지원', '행정지원', '기타'], dtype=object)"
      ]
     },
     "execution_count": 69,
     "metadata": {},
     "output_type": "execute_result"
    }
   ],
   "source": [
    "pred"
   ]
  },
  {
   "cell_type": "code",
   "execution_count": 70,
   "id": "2102ae3c",
   "metadata": {},
   "outputs": [
    {
     "data": {
      "text/html": [
       "<div>\n",
       "<style scoped>\n",
       "    .dataframe tbody tr th:only-of-type {\n",
       "        vertical-align: middle;\n",
       "    }\n",
       "\n",
       "    .dataframe tbody tr th {\n",
       "        vertical-align: top;\n",
       "    }\n",
       "\n",
       "    .dataframe thead th {\n",
       "        text-align: right;\n",
       "    }\n",
       "</style>\n",
       "<table border=\"1\" class=\"dataframe\">\n",
       "  <thead>\n",
       "    <tr style=\"text-align: right;\">\n",
       "      <th></th>\n",
       "      <th>test_title</th>\n",
       "      <th>Predicted</th>\n",
       "      <th>Answer</th>\n",
       "    </tr>\n",
       "  </thead>\n",
       "  <tbody>\n",
       "    <tr>\n",
       "      <th>1852</th>\n",
       "      <td>관광객의 수가 정도를 넘어 선 수준입니다.</td>\n",
       "      <td>기타</td>\n",
       "      <td>기타</td>\n",
       "    </tr>\n",
       "    <tr>\n",
       "      <th>1628</th>\n",
       "      <td>졸업식 연기하세요. 대책 마련하세요. 학교가 해야 할 일이니까요.</td>\n",
       "      <td>행정지원</td>\n",
       "      <td>행정지원</td>\n",
       "    </tr>\n",
       "    <tr>\n",
       "      <th>614</th>\n",
       "      <td>기말고사 오프라인 시험 금지 요청</td>\n",
       "      <td>행정지원</td>\n",
       "      <td>행정지원</td>\n",
       "    </tr>\n",
       "    <tr>\n",
       "      <th>1345</th>\n",
       "      <td>결론은 결국  학기 전면 사이버강의입니다</td>\n",
       "      <td>행정지원</td>\n",
       "      <td>행정지원</td>\n",
       "    </tr>\n",
       "    <tr>\n",
       "      <th>414</th>\n",
       "      <td>학기 기말고사를 전면 비대면으로 진행해주십시오</td>\n",
       "      <td>행정지원</td>\n",
       "      <td>행정지원</td>\n",
       "    </tr>\n",
       "    <tr>\n",
       "      <th>...</th>\n",
       "      <td>...</td>\n",
       "      <td>...</td>\n",
       "      <td>...</td>\n",
       "    </tr>\n",
       "    <tr>\n",
       "      <th>1857</th>\n",
       "      <td>중국의 샤먼대학교처럼 관광객 쿼터제</td>\n",
       "      <td>기타</td>\n",
       "      <td>기타</td>\n",
       "    </tr>\n",
       "    <tr>\n",
       "      <th>434</th>\n",
       "      <td>실습도 비대면 선택권 주세요</td>\n",
       "      <td>행정지원</td>\n",
       "      <td>기타</td>\n",
       "    </tr>\n",
       "    <tr>\n",
       "      <th>1468</th>\n",
       "      <td>사이버강의 연장해주세요.</td>\n",
       "      <td>행정지원</td>\n",
       "      <td>행정지원</td>\n",
       "    </tr>\n",
       "    <tr>\n",
       "      <th>745</th>\n",
       "      <td>기말고사 오프라인 시험을 막아주세요</td>\n",
       "      <td>행정지원</td>\n",
       "      <td>행정지원</td>\n",
       "    </tr>\n",
       "    <tr>\n",
       "      <th>592</th>\n",
       "      <td>학교에게 적극적이고 즉각적인 소통의 자세를 요구합니다.</td>\n",
       "      <td>기타</td>\n",
       "      <td>기타</td>\n",
       "    </tr>\n",
       "  </tbody>\n",
       "</table>\n",
       "<p>385 rows × 3 columns</p>\n",
       "</div>"
      ],
      "text/plain": [
       "                                test_title Predicted Answer\n",
       "1852               관광객의 수가 정도를 넘어 선 수준입니다.        기타     기타\n",
       "1628  졸업식 연기하세요. 대책 마련하세요. 학교가 해야 할 일이니까요.      행정지원   행정지원\n",
       "614                     기말고사 오프라인 시험 금지 요청      행정지원   행정지원\n",
       "1345                결론은 결국  학기 전면 사이버강의입니다      행정지원   행정지원\n",
       "414              학기 기말고사를 전면 비대면으로 진행해주십시오      행정지원   행정지원\n",
       "...                                    ...       ...    ...\n",
       "1857                   중국의 샤먼대학교처럼 관광객 쿼터제        기타     기타\n",
       "434                        실습도 비대면 선택권 주세요      행정지원     기타\n",
       "1468                         사이버강의 연장해주세요.      행정지원   행정지원\n",
       "745                    기말고사 오프라인 시험을 막아주세요      행정지원   행정지원\n",
       "592         학교에게 적극적이고 즉각적인 소통의 자세를 요구합니다.        기타     기타\n",
       "\n",
       "[385 rows x 3 columns]"
      ]
     },
     "execution_count": 70,
     "metadata": {},
     "output_type": "execute_result"
    }
   ],
   "source": [
    "import pandas as pd\n",
    "\n",
    "# 예측 결과와 X_test['title']을 pandas DataFrame으로 결합\n",
    "results_df = pd.DataFrame({'test_title': X_test['title'], 'Predicted': pred, 'Answer': y_test})\n",
    "\n",
    "results_df"
   ]
  },
  {
   "cell_type": "code",
   "execution_count": 71,
   "id": "1e621c8f",
   "metadata": {},
   "outputs": [],
   "source": [
    "results_df.to_csv(\"final_result.csv\", index = False)"
   ]
  },
  {
   "cell_type": "code",
   "execution_count": null,
   "id": "7129236b",
   "metadata": {},
   "outputs": [],
   "source": []
  }
 ],
 "metadata": {
  "kernelspec": {
   "display_name": "Python 3 (ipykernel)",
   "language": "python",
   "name": "python3"
  },
  "language_info": {
   "codemirror_mode": {
    "name": "ipython",
    "version": 3
   },
   "file_extension": ".py",
   "mimetype": "text/x-python",
   "name": "python",
   "nbconvert_exporter": "python",
   "pygments_lexer": "ipython3",
   "version": "3.11.5"
  }
 },
 "nbformat": 4,
 "nbformat_minor": 5
}
